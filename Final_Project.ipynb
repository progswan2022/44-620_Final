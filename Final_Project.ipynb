{
 "cells": [
  {
   "cell_type": "markdown",
   "id": "767d79d6-5913-4fd9-bc6a-36beb369d62b",
   "metadata": {},
   "source": [
    "# Final Project - 44-620 - Module 07\n",
    "Critical Role Episode Sentiment Analysis\n",
    "## Student - Erin Swan-Siegel\n",
    "https://github.com/progswan2022/44-620_Final\n",
    "\n",
    "## Introduction\n",
    "\n",
    "## Process\n",
    "I started out this project with the intent to build my own api instead of using a pre-made one. The purpose of my api is to gather information based on the transcripts from my favorite vlog, Critical Role (Dungeons and Dragons). Through the course of my online search for resources - after a few hours of work - I found a step-by-step tutorial on the site \"Real Python\", teaching the reader to build their own webscraper. (https://realpython.com/python-web-scraping-practical-introduction/#build-your-first-web-scraper)\n",
    "\n",
    "## Summary"
   ]
  },
  {
   "cell_type": "code",
   "execution_count": 12,
   "id": "308603f3-e70a-41f9-b2bd-4cf13e8f860d",
   "metadata": {},
   "outputs": [],
   "source": [
    "# Import necessary libraries\n",
    "from selenium import webdriver\n",
    "from bs4 import BeautifulSoup\n",
    "import pandas as pd\n",
    "import requests\n",
    "import json\n",
    "from urllib.request import urlopen"
   ]
  },
  {
   "cell_type": "code",
   "execution_count": null,
   "id": "3f9b0ad6-c6d6-4983-baec-f2dea99adff9",
   "metadata": {},
   "outputs": [],
   "source": [
    "url = \"https://crtranscript.tumblr.com/ep116\"\n",
    "\n",
    "page = urlopen(url)\n",
    "\n",
    "html_bytes = page.read()\n",
    "html = html_bytes.decode(\"utf-8\")\n",
    "\n",
    "print(html)"
   ]
  },
  {
   "cell_type": "code",
   "execution_count": 19,
   "id": "ab9614cd-53a9-43af-b59c-e8e24001292c",
   "metadata": {},
   "outputs": [
    {
     "data": {
      "text/plain": [
       "1200"
      ]
     },
     "execution_count": 19,
     "metadata": {},
     "output_type": "execute_result"
    }
   ],
   "source": [
    "title_index = html.find(\"<title>\")\n",
    "title_index"
   ]
  },
  {
   "cell_type": "code",
   "execution_count": 20,
   "id": "fbcc8ae8-9404-463e-a0c2-8a9292518400",
   "metadata": {},
   "outputs": [
    {
     "data": {
      "text/plain": [
       "1207"
      ]
     },
     "execution_count": 20,
     "metadata": {},
     "output_type": "execute_result"
    }
   ],
   "source": [
    "start_index = title_index + len(\"<title>\")\n",
    "start_index"
   ]
  },
  {
   "cell_type": "code",
   "execution_count": 21,
   "id": "52a3bb90-290a-4449-a000-7a1c025de8bd",
   "metadata": {},
   "outputs": [
    {
     "data": {
      "text/plain": [
       "1275"
      ]
     },
     "execution_count": 21,
     "metadata": {},
     "output_type": "execute_result"
    }
   ],
   "source": [
    "end_index = html.find(\"</title>\")\n",
    "end_index"
   ]
  },
  {
   "cell_type": "code",
   "execution_count": 22,
   "id": "c65a622c-6aa7-49a8-8d37-1bf946970db6",
   "metadata": {},
   "outputs": [
    {
     "data": {
      "text/plain": [
       "'Critical Role Transcript — Campaign 2, Episode 1: Curious Beginnings'"
      ]
     },
     "execution_count": 22,
     "metadata": {},
     "output_type": "execute_result"
    }
   ],
   "source": [
    "title = html[start_index:end_index]\n",
    "title"
   ]
  },
  {
   "cell_type": "code",
   "execution_count": 23,
   "id": "d755d75a-2e0f-4390-8514-e8118df59d65",
   "metadata": {},
   "outputs": [
    {
     "data": {
      "text/plain": [
       "'Critical Role Transcript — Campaign 2, Episode 1: Curious Beginnings'"
      ]
     },
     "execution_count": 23,
     "metadata": {},
     "output_type": "execute_result"
    }
   ],
   "source": [
    "url = \"https://crtranscript.tumblr.com/ep116\"\n",
    "page = urlopen(url)\n",
    "html = page.read().decode(\"utf-8\")\n",
    "start_index = html.find(\"<title>\") + len(\"<title>\")\n",
    "end_index = html.find(\"</title>\")\n",
    "title = html[start_index:end_index]\n",
    "title"
   ]
  },
  {
   "cell_type": "markdown",
   "id": "d927674c-d843-4628-afc7-8d548c13c9da",
   "metadata": {},
   "source": [
    "# Scratch paper\n",
    "driver = webdriver.Chrome(\"/usr/lib/chromium-browser/chromedriver\")\n",
    "\n",
    "\n",
    "### Create pull function from Critical Role Transcript URL and write to JSON file\n",
    "\n",
    "https://crtranscript.tumblr.com/\n",
    "\n",
    "driver = webdriver.Chrome(\"/usr/lib/chromium-browser/chromedriver\")\n",
    "transcripts=[]\n",
    "driver.get(\"<a href=\"https://crtranscript.tumblr.com/\">https://crtranscript.tumblr.com/</a>ep116\")\n",
    "\n",
    "### User's Input options\n",
    "episode = '116'\n",
    "\n",
    "### Loading the contents of the episode transcripts into memory\n",
    "URL = f'https://crtranscript.tumblr.com/{episode}'\n",
    "result = json.loads(requests.get(URL).text)\n",
    "\n",
    "### Prepare the data to be written to a json file; Serializing json\n",
    "json_object = json.dumps(result, indent=4)\n",
    " \n",
    "### Opening a .json file, writing to transcript.json\n",
    "with open(\"Transcript.json\", \"w\") as outfile:\n",
    "outfile.write(json_object)\n",
    "    \n",
    "outfile.close()"
   ]
  },
  {
   "cell_type": "code",
   "execution_count": 1,
   "id": "c92ebb80-8c77-49b1-bb26-3861889e48ef",
   "metadata": {},
   "outputs": [],
   "source": [
    "# Open file and perform sentiment analysis"
   ]
  },
  {
   "cell_type": "code",
   "execution_count": null,
   "id": "2e34c93b-58df-4901-a9f1-23ea915ec1f8",
   "metadata": {},
   "outputs": [],
   "source": []
  }
 ],
 "metadata": {
  "kernelspec": {
   "display_name": "Python 3 (ipykernel)",
   "language": "python",
   "name": "python3"
  },
  "language_info": {
   "codemirror_mode": {
    "name": "ipython",
    "version": 3
   },
   "file_extension": ".py",
   "mimetype": "text/x-python",
   "name": "python",
   "nbconvert_exporter": "python",
   "pygments_lexer": "ipython3",
   "version": "3.9.7"
  }
 },
 "nbformat": 4,
 "nbformat_minor": 5
}
