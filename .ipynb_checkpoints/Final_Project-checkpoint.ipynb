{
 "cells": [
  {
   "cell_type": "markdown",
   "id": "767d79d6-5913-4fd9-bc6a-36beb369d62b",
   "metadata": {},
   "source": [
    "# Final Project - 44-620 - Module 07\n",
    "Critical Role Episode Sentiment Analysis\n",
    "## Student - Erin Swan-Siegel\n",
    "https://github.com/progswan2022/44-620_Final\n",
    "\n",
    "## Introduction\n",
    "\n",
    "## Summary"
   ]
  },
  {
   "cell_type": "code",
   "execution_count": 2,
   "id": "cdcc6259-a226-4a11-b22d-dd7cbda5995d",
   "metadata": {},
   "outputs": [],
   "source": [
    "# Import necessary libraries"
   ]
  },
  {
   "cell_type": "code",
   "execution_count": 3,
   "id": "027a2f22-9864-469d-8f7b-ed8d8fd6cb4d",
   "metadata": {},
   "outputs": [],
   "source": [
    "# Create pull function from Critical Role Transcript URL and write to JSON file\n",
    "# https://crtranscript.tumblr.com/"
   ]
  },
  {
   "cell_type": "code",
   "execution_count": 1,
   "id": "c92ebb80-8c77-49b1-bb26-3861889e48ef",
   "metadata": {},
   "outputs": [],
   "source": [
    "# Open file and perform sentiment analysis"
   ]
  },
  {
   "cell_type": "code",
   "execution_count": null,
   "id": "2e34c93b-58df-4901-a9f1-23ea915ec1f8",
   "metadata": {},
   "outputs": [],
   "source": []
  }
 ],
 "metadata": {
  "kernelspec": {
   "display_name": "Python 3 (ipykernel)",
   "language": "python",
   "name": "python3"
  },
  "language_info": {
   "codemirror_mode": {
    "name": "ipython",
    "version": 3
   },
   "file_extension": ".py",
   "mimetype": "text/x-python",
   "name": "python",
   "nbconvert_exporter": "python",
   "pygments_lexer": "ipython3",
   "version": "3.9.7"
  }
 },
 "nbformat": 4,
 "nbformat_minor": 5
}
